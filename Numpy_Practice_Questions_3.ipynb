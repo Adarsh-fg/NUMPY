{
  "nbformat": 4,
  "nbformat_minor": 0,
  "metadata": {
    "colab": {
      "provenance": []
    },
    "kernelspec": {
      "name": "python3",
      "display_name": "Python 3"
    },
    "language_info": {
      "name": "python"
    }
  },
  "cells": [
    {
      "cell_type": "code",
      "source": [
        "import numpy as np"
      ],
      "metadata": {
        "id": "Wx5ek6mJWxA-"
      },
      "execution_count": 2,
      "outputs": []
    },
    {
      "cell_type": "markdown",
      "source": [
        "Numpy Joining Arrays"
      ],
      "metadata": {
        "id": "tGoojWwiWjvu"
      }
    },
    {
      "cell_type": "markdown",
      "source": [
        "1. Concatenation of Arrays: Given two arrays a = np.array([1, 2, 3]) and b = np.array([4, 5, 6]),\n",
        "concatenate them into one array."
      ],
      "metadata": {
        "id": "jsp7it7_Wl4f"
      }
    },
    {
      "cell_type": "code",
      "execution_count": null,
      "metadata": {
        "colab": {
          "base_uri": "https://localhost:8080/"
        },
        "id": "loD84t5lV51O",
        "outputId": "cb0523b0-b03c-4472-a55b-141ec5b86b51"
      },
      "outputs": [
        {
          "output_type": "stream",
          "name": "stdout",
          "text": [
            "[1 2 3 4 5 6]\n"
          ]
        }
      ],
      "source": [
        "a = np.array([1, 2, 3])\n",
        "b = np.array([4, 5, 6])\n",
        "c = np.concatenate((a,b))\n",
        "print(c)"
      ]
    },
    {
      "cell_type": "markdown",
      "source": [
        "2. Stacking Arrays Vertically: Stack the arrays a = np.array([1, 2, 3]) and b = np.array([4, 5, 6])\n",
        "vertically."
      ],
      "metadata": {
        "id": "03GVA7AgXKNN"
      }
    },
    {
      "cell_type": "code",
      "source": [
        "a = np.array([1, 2, 3])\n",
        "b = np.array([4, 5, 6])\n",
        "c = np.stack((a,b),axis=1)\n",
        "print(c)"
      ],
      "metadata": {
        "colab": {
          "base_uri": "https://localhost:8080/"
        },
        "id": "qk8Wn-A6XJYe",
        "outputId": "7c3eefcc-e516-4b9f-bad9-788bbb0d62b9"
      },
      "execution_count": null,
      "outputs": [
        {
          "output_type": "stream",
          "name": "stdout",
          "text": [
            "[[1 4]\n",
            " [2 5]\n",
            " [3 6]]\n"
          ]
        }
      ]
    },
    {
      "cell_type": "markdown",
      "source": [
        "3. Stacking Arrays Horizontally: Stack the arrays a = np.array([1, 2, 3]) and b = np.array([4, 5, 6])\n",
        "horizontally."
      ],
      "metadata": {
        "id": "Shsh4PD-XhTl"
      }
    },
    {
      "cell_type": "code",
      "source": [
        " a = np.array([1, 2, 3])\n",
        " b = np.array([4, 5, 6])\n",
        " c = np.stack((a,b),axis=0)\n",
        " print(c)"
      ],
      "metadata": {
        "colab": {
          "base_uri": "https://localhost:8080/"
        },
        "id": "jrt6Mq6dXfPm",
        "outputId": "d7b2a470-cc5e-4172-fd2e-5c93b5e39922"
      },
      "execution_count": null,
      "outputs": [
        {
          "output_type": "stream",
          "name": "stdout",
          "text": [
            "[[1 2 3]\n",
            " [4 5 6]]\n"
          ]
        }
      ]
    },
    {
      "cell_type": "markdown",
      "source": [
        "4. Stacking Multiple Arrays: Given three 1D arrays a, b, and c, stack them along a new axis."
      ],
      "metadata": {
        "id": "Wj_hx7QRX_uT"
      }
    },
    {
      "cell_type": "code",
      "source": [
        "a=np.array([1, 2, 3])\n",
        "b=np.array([4, 5, 6])\n",
        "c=np.array([7, 8, 9])\n",
        "x=np.stack((a,b,c))\n",
        "print(x)"
      ],
      "metadata": {
        "colab": {
          "base_uri": "https://localhost:8080/"
        },
        "id": "utogp-MHYBGj",
        "outputId": "121c8e7a-d77d-425d-ab94-a8b941b91b7e"
      },
      "execution_count": null,
      "outputs": [
        {
          "output_type": "stream",
          "name": "stdout",
          "text": [
            "[[1 2 3]\n",
            " [4 5 6]\n",
            " [7 8 9]]\n"
          ]
        }
      ]
    },
    {
      "cell_type": "markdown",
      "source": [
        "5. Joining Arrays along Specific Axis: Create two 2D arrays a = np.array([[1, 2], [3, 4]]) and b =\n",
        "np.array([[5, 6], [7, 8]]), and join them along axis 1."
      ],
      "metadata": {
        "id": "XLGR38XqYnZD"
      }
    },
    {
      "cell_type": "code",
      "source": [
        "a = np.array([[1, 2], [3, 4]])\n",
        "b = np.array([[5, 6], [7, 8]])\n",
        "c = np.concatenate((a,b),axis=1)\n",
        "print(c)"
      ],
      "metadata": {
        "colab": {
          "base_uri": "https://localhost:8080/"
        },
        "id": "WEEVXzyhYo1D",
        "outputId": "a1d398ac-0cc9-4637-80b0-904bcc0fcb7e"
      },
      "execution_count": null,
      "outputs": [
        {
          "output_type": "stream",
          "name": "stdout",
          "text": [
            "[[1 2 5 6]\n",
            " [3 4 7 8]]\n"
          ]
        }
      ]
    },
    {
      "cell_type": "markdown",
      "source": [
        "Numpy Splitting Arrays"
      ],
      "metadata": {
        "id": "X1zUUvl4Y8TL"
      }
    },
    {
      "cell_type": "markdown",
      "source": [
        "6. Splitting an Array: Split an array a = np.array([1, 2, 3, 4, 5, 6]) into 3 equal parts."
      ],
      "metadata": {
        "id": "MHnpgvHgY-aq"
      }
    },
    {
      "cell_type": "code",
      "source": [
        "a = np.array([1, 2, 3, 4, 5, 6])\n",
        "b=np.array_split(a,3)\n",
        "print(x)"
      ],
      "metadata": {
        "colab": {
          "base_uri": "https://localhost:8080/"
        },
        "id": "fIG_wdjvY_R6",
        "outputId": "b3a84b13-e449-4e07-c06c-2195d7d13941"
      },
      "execution_count": null,
      "outputs": [
        {
          "output_type": "stream",
          "name": "stdout",
          "text": [
            "[[1 2 3]\n",
            " [4 5 6]\n",
            " [7 8 9]]\n"
          ]
        }
      ]
    },
    {
      "cell_type": "markdown",
      "source": [
        "7. Splitting a 2D Array: Split the 2D array a = np.array([[1, 2], [3, 4], [5, 6]]) into two equal parts\n",
        "along axis 0."
      ],
      "metadata": {
        "id": "MeYe-Sx3ZMqz"
      }
    },
    {
      "cell_type": "code",
      "source": [
        "a = np.array([[1, 2], [3, 4], [5, 6]])\n",
        "b=np.array_split(a,2,axis=0)\n",
        "print(b)"
      ],
      "metadata": {
        "colab": {
          "base_uri": "https://localhost:8080/"
        },
        "id": "U0zJ9YC5ZNZD",
        "outputId": "a647f1e7-cb1f-4215-f902-90a827eefab3"
      },
      "execution_count": 6,
      "outputs": [
        {
          "output_type": "stream",
          "name": "stdout",
          "text": [
            "[array([[1, 2],\n",
            "       [3, 4]]), array([[5, 6]])]\n"
          ]
        }
      ]
    },
    {
      "cell_type": "markdown",
      "source": [
        "8. Using array_split() for Uneven Splitting: Use array_split to split an array a = np.array([1, 2, 3, 4, 5,\n",
        "6, 7]) into 3 parts, where the array lengths are not equal."
      ],
      "metadata": {
        "id": "Sow5ysYgaATJ"
      }
    },
    {
      "cell_type": "code",
      "source": [
        " a = np.array([1, 2, 3, 4, 5, 6, 7])\n",
        " b=np.array_split(a,2)\n",
        " print(b)"
      ],
      "metadata": {
        "colab": {
          "base_uri": "https://localhost:8080/"
        },
        "id": "Dpxbq3oHZ-C_",
        "outputId": "8490db5d-e67a-4e74-becd-ba297ffb330f"
      },
      "execution_count": null,
      "outputs": [
        {
          "output_type": "stream",
          "name": "stdout",
          "text": [
            "[array([1, 2, 3, 4]), array([5, 6, 7])]\n"
          ]
        }
      ]
    },
    {
      "cell_type": "markdown",
      "source": [
        "9. Splitting into Multiple Sub-arrays: Split a 2D array a = np.array([[1, 2, 3], [4, 5, 6], [7, 8, 9], [10,\n",
        "11, 12]]) into 2 parts along axis 1."
      ],
      "metadata": {
        "id": "W_sm6aibaRKo"
      }
    },
    {
      "cell_type": "code",
      "source": [
        "a = np.array([[1, 2, 3], [4, 5, 6], [7, 8, 9], [10, 11, 12]])\n",
        "b=np.array_split(a,2,axis=1)\n",
        "print(b)"
      ],
      "metadata": {
        "colab": {
          "base_uri": "https://localhost:8080/"
        },
        "id": "HtaGLZwaaS9p",
        "outputId": "ae1ff7dc-0770-40bc-b57f-e7e6a3ec79a7"
      },
      "execution_count": null,
      "outputs": [
        {
          "output_type": "stream",
          "name": "stdout",
          "text": [
            "[array([[ 1,  2],\n",
            "       [ 4,  5],\n",
            "       [ 7,  8],\n",
            "       [10, 11]]), array([[ 3],\n",
            "       [ 6],\n",
            "       [ 9],\n",
            "       [12]])]\n"
          ]
        }
      ]
    },
    {
      "cell_type": "markdown",
      "source": [
        "10. Advanced Splitting: Split an array a = np.array([1, 2, 3, 4, 5, 6, 7, 8, 9]) into three sub-arrays where\n",
        "the first two contain 3 elements each, and the last contains the rest."
      ],
      "metadata": {
        "id": "gIwrht5taaMS"
      }
    },
    {
      "cell_type": "code",
      "source": [
        "a = np.array([1, 2, 3, 4, 5, 6, 7, 8, 9])\n",
        "b = np.array_split(a,3)\n",
        "print(b)"
      ],
      "metadata": {
        "colab": {
          "base_uri": "https://localhost:8080/"
        },
        "id": "q43yv5jeab-K",
        "outputId": "2f556f45-1fc0-414b-f60a-0fb5292e7504"
      },
      "execution_count": null,
      "outputs": [
        {
          "output_type": "stream",
          "name": "stdout",
          "text": [
            "[array([1, 2, 3]), array([4, 5, 6]), array([7, 8, 9])]\n"
          ]
        }
      ]
    },
    {
      "cell_type": "markdown",
      "source": [
        "Numpy Searching Arrays"
      ],
      "metadata": {
        "id": "q0FGwrOicydg"
      }
    },
    {
      "cell_type": "markdown",
      "source": [
        "11. Searching for Specific Values: Search for the index of value 4 in the array a = np.array([1, 2, 3, 4,\n",
        "5, 6])."
      ],
      "metadata": {
        "id": "gcQOLZGqc1q3"
      }
    },
    {
      "cell_type": "code",
      "source": [
        "a = np.array([1, 2, 3, 4, 5, 6])\n",
        "x = np.searchsorted(a,4)\n",
        "print(x)"
      ],
      "metadata": {
        "colab": {
          "base_uri": "https://localhost:8080/"
        },
        "id": "bKbD_Ftbc2Lu",
        "outputId": "3f3ac07b-5e64-4626-a55e-312f051a6eba"
      },
      "execution_count": null,
      "outputs": [
        {
          "output_type": "stream",
          "name": "stdout",
          "text": [
            "3\n"
          ]
        }
      ]
    },
    {
      "cell_type": "markdown",
      "source": [
        "12. Finding Indices of Maximum Value: Use Numpy to find the index of the maximum value in an\n",
        "array a = np.array([10, 20, 30, 40, 50])."
      ],
      "metadata": {
        "id": "_vNMOiTOdLCH"
      }
    },
    {
      "cell_type": "code",
      "source": [
        "a = np.array([10, 20, 30, 40, 50])\n",
        "x = np.max(a)\n",
        "b = np.searchsorted(a,x)\n",
        "print(b)\n"
      ],
      "metadata": {
        "colab": {
          "base_uri": "https://localhost:8080/"
        },
        "id": "4vIL6qTYdOd3",
        "outputId": "5bd23c68-910f-4117-eadd-adaf6fe55717"
      },
      "execution_count": null,
      "outputs": [
        {
          "output_type": "stream",
          "name": "stdout",
          "text": [
            "4\n"
          ]
        }
      ]
    },
    {
      "cell_type": "markdown",
      "source": [
        "13. Multiple Value Search: Find the indices where the values are greater than 10 in a = np.array([5, 10,\n",
        "15, 20, 25])."
      ],
      "metadata": {
        "id": "0FhsOaZbd4Aq"
      }
    },
    {
      "cell_type": "code",
      "source": [
        "a = np.array([5, 10, 15, 20, 25])\n",
        "x = np.where(a>10)\n",
        "print(x)"
      ],
      "metadata": {
        "colab": {
          "base_uri": "https://localhost:8080/"
        },
        "id": "rUJZYnp5d5-P",
        "outputId": "77e4857a-2285-47e0-be84-b6f61ba9aebd"
      },
      "execution_count": null,
      "outputs": [
        {
          "output_type": "stream",
          "name": "stdout",
          "text": [
            "(array([2, 3, 4]),)\n"
          ]
        }
      ]
    },
    {
      "cell_type": "markdown",
      "source": [
        "14. Searching in a 2D Array: Find the index of value 7 in a 2D array a = np.array([[1, 2, 3], [4, 5, 6],\n",
        "[7, 8, 9]])."
      ],
      "metadata": {
        "id": "rgb-PBDJeHr2"
      }
    },
    {
      "cell_type": "code",
      "source": [
        "a = np.array([[1, 2, 3], [4, 5, 6], [7, 8, 9]])\n",
        "x = np.where(a==7)\n",
        "print(x)"
      ],
      "metadata": {
        "colab": {
          "base_uri": "https://localhost:8080/"
        },
        "id": "rIU0BIOZeISH",
        "outputId": "ea29da9f-7103-4ce7-dbb0-0de3ed39a662"
      },
      "execution_count": null,
      "outputs": [
        {
          "output_type": "stream",
          "name": "stdout",
          "text": [
            "(array([2]), array([0]))\n"
          ]
        }
      ]
    },
    {
      "cell_type": "markdown",
      "source": [
        "15. Using where() for Conditional Search: Use np.where() to find the indices where the values in a =\n",
        "np.array([10, 20, 30, 40, 50]) are greater than or equal to 30."
      ],
      "metadata": {
        "id": "T3JAkUVVeRKF"
      }
    },
    {
      "cell_type": "code",
      "source": [
        "a = np.array([10, 20, 30, 40, 50])\n",
        "x = np.where(a>=30)\n",
        "print(x)"
      ],
      "metadata": {
        "colab": {
          "base_uri": "https://localhost:8080/"
        },
        "id": "_nPL3xZPeS41",
        "outputId": "1a37c526-cf4d-46e4-cbf5-5a6fd85ed753"
      },
      "execution_count": null,
      "outputs": [
        {
          "output_type": "stream",
          "name": "stdout",
          "text": [
            "(array([2, 3, 4]),)\n"
          ]
        }
      ]
    },
    {
      "cell_type": "markdown",
      "source": [
        "Numpy Sorting Arrays"
      ],
      "metadata": {
        "id": "FCqUqnRXeifk"
      }
    },
    {
      "cell_type": "markdown",
      "source": [
        "16. Sorting a 1D Array: Sort the array a = np.array([9, 2, 5, 1, 7]) in ascending order."
      ],
      "metadata": {
        "id": "8lRExew1ejsO"
      }
    },
    {
      "cell_type": "code",
      "source": [
        "a = np.array([9, 2, 5, 1, 7])\n",
        "b = np.sort(a)\n",
        "print(b)"
      ],
      "metadata": {
        "colab": {
          "base_uri": "https://localhost:8080/"
        },
        "id": "8Uc8dwBceggA",
        "outputId": "9fefb343-4e47-42bc-ab67-94190d3217a1"
      },
      "execution_count": null,
      "outputs": [
        {
          "output_type": "stream",
          "name": "stdout",
          "text": [
            "[1 2 5 7 9]\n"
          ]
        }
      ]
    },
    {
      "cell_type": "markdown",
      "source": [
        "17. Sorting a 2D Array by Columns: Sort the 2D array a = np.array([[1, 4, 3], [6, 5, 2]]) by its second\n",
        "column."
      ],
      "metadata": {
        "id": "ch2UJBqHesP9"
      }
    },
    {
      "cell_type": "code",
      "source": [
        "a = np.array([[1, 4, 3], [6, 5, 2]])\n",
        "b = a[a[:,1].argsort()]\n",
        "print(b)"
      ],
      "metadata": {
        "colab": {
          "base_uri": "https://localhost:8080/"
        },
        "id": "itAHDbaweuV9",
        "outputId": "2cf013a2-33b5-41f3-ab9c-4fe9fbebc72c"
      },
      "execution_count": null,
      "outputs": [
        {
          "output_type": "stream",
          "name": "stdout",
          "text": [
            "[[1 4 3]\n",
            " [6 5 2]]\n"
          ]
        }
      ]
    },
    {
      "cell_type": "markdown",
      "source": [
        "18. Sorting a 2D Array by Rows: Sort the rows of the 2D array a = np.array([[3, 2, 1], [6, 5, 4]]) in\n",
        "ascending order."
      ],
      "metadata": {
        "id": "_luX0TpIfzs0"
      }
    },
    {
      "cell_type": "code",
      "source": [
        "a = np.array([[3, 2, 1], [6, 5, 4]])\n",
        "b = np.sort(a)\n",
        "print(b)"
      ],
      "metadata": {
        "colab": {
          "base_uri": "https://localhost:8080/"
        },
        "id": "hRuacImyf1h7",
        "outputId": "3e84eeb2-c058-48b0-8a76-aa0855b6ea56"
      },
      "execution_count": null,
      "outputs": [
        {
          "output_type": "stream",
          "name": "stdout",
          "text": [
            "[[1 2 3]\n",
            " [4 5 6]]\n"
          ]
        }
      ]
    },
    {
      "cell_type": "markdown",
      "source": [
        "19. Advanced Sorting with Indices: Use np.argsort() to return the indices that would sort the array a =\n",
        "np.array([30, 10, 50, 40, 20])."
      ],
      "metadata": {
        "id": "aCdvOZLngEIA"
      }
    },
    {
      "cell_type": "code",
      "source": [
        "a = np.array([30, 10, 50, 40, 20])\n",
        "b = np.argsort(a)\n",
        "print(b)"
      ],
      "metadata": {
        "colab": {
          "base_uri": "https://localhost:8080/"
        },
        "id": "0m0l3LtSgGml",
        "outputId": "5a9f55a8-c9e1-4d50-8df5-a0955785252d"
      },
      "execution_count": null,
      "outputs": [
        {
          "output_type": "stream",
          "name": "stdout",
          "text": [
            "[1 4 0 3 2]\n"
          ]
        }
      ]
    },
    {
      "cell_type": "markdown",
      "source": [
        "20. Sorting Strings in an Array: Sort an array of strings a = np.array([\"banana\", \"apple\", \"cherry\"])."
      ],
      "metadata": {
        "id": "gRvvO-LagnSc"
      }
    },
    {
      "cell_type": "code",
      "source": [
        "a = np.array([\"banana\", \"apple\", \"cherry\"])\n",
        "b = np.sort(a)\n",
        "print(b)"
      ],
      "metadata": {
        "colab": {
          "base_uri": "https://localhost:8080/"
        },
        "id": "N-clMSjegkxr",
        "outputId": "7c38f6f1-4b36-4813-8618-4fb46d2d367d"
      },
      "execution_count": null,
      "outputs": [
        {
          "output_type": "stream",
          "name": "stdout",
          "text": [
            "['apple' 'banana' 'cherry']\n"
          ]
        }
      ]
    },
    {
      "cell_type": "markdown",
      "source": [
        "Numpy Filter Arrays"
      ],
      "metadata": {
        "id": "1sKh3Vatg9cn"
      }
    },
    {
      "cell_type": "markdown",
      "source": [
        "21. Filtering Values: Filter an array a = np.array([1, 2, 3, 4, 5, 6]) to extract only the values greater than 3."
      ],
      "metadata": {
        "id": "4A3P9fh1g-D_"
      }
    },
    {
      "cell_type": "code",
      "source": [
        "a = np.array([1, 2, 3, 4, 5, 6])\n",
        "b = []\n",
        "for i in a:\n",
        "  if i>3:\n",
        "    b.append(True)\n",
        "  else:\n",
        "    b.append(False)\n",
        "newarr=a[b]\n",
        "print(newarr)"
      ],
      "metadata": {
        "colab": {
          "base_uri": "https://localhost:8080/"
        },
        "id": "f8LhAE2og___",
        "outputId": "d3767878-3e59-40f2-93d9-4eae3a778d81"
      },
      "execution_count": null,
      "outputs": [
        {
          "output_type": "stream",
          "name": "stdout",
          "text": [
            "[4 5 6]\n"
          ]
        }
      ]
    },
    {
      "cell_type": "markdown",
      "source": [
        "22. Filter with Multiple Conditions: Filter the array a = np.array([10, 15, 20, 25, 30]) to get values that\n",
        "are both greater than 15 and less than 30."
      ],
      "metadata": {
        "id": "dETVCRD0hr8U"
      }
    },
    {
      "cell_type": "code",
      "source": [
        "a = np.array([10, 15, 20, 25, 30])\n",
        "# b =np.logical_and(a<30,a>15)\n",
        "b = []\n",
        "for i in a:\n",
        "  if i<30 and i>15:\n",
        "    b.append(True)\n",
        "  else:\n",
        "    b.append(False)\n",
        "newarr=a[b]\n",
        "print(newarr)"
      ],
      "metadata": {
        "colab": {
          "base_uri": "https://localhost:8080/"
        },
        "id": "5OpfCBeehro8",
        "outputId": "cdde25f0-4532-419c-f9f5-04df3de70da8"
      },
      "execution_count": 14,
      "outputs": [
        {
          "output_type": "stream",
          "name": "stdout",
          "text": [
            "[]\n"
          ]
        }
      ]
    },
    {
      "cell_type": "markdown",
      "source": [
        "23. Filtering a 2D Array: Filter the 2D array a = np.array([[1, 2], [3, 4], [5, 6]]) to only include rows\n",
        "where the first column is greater than 2."
      ],
      "metadata": {
        "id": "yJd7yLw3iYLx"
      }
    },
    {
      "cell_type": "code",
      "source": [
        "a = np.array([[1, 2], [3, 4], [5, 6]])\n",
        "x=a[:,0]>2\n",
        "newarr=a[x]\n",
        "print(newarr)\n",
        "print(x)"
      ],
      "metadata": {
        "colab": {
          "base_uri": "https://localhost:8080/"
        },
        "id": "g-JPJ3t7iZhC",
        "outputId": "03ecbfc6-543c-4f45-f9fe-9b9c25906f6e"
      },
      "execution_count": null,
      "outputs": [
        {
          "output_type": "stream",
          "name": "stdout",
          "text": [
            "[[3 4]\n",
            " [5 6]]\n",
            "[False  True  True]\n"
          ]
        }
      ]
    },
    {
      "cell_type": "markdown",
      "source": [
        "24. Filtering Even Numbers: Create a boolean filter to select only the even numbers from an array a =\n",
        "np.array([1, 2, 3, 4, 5, 6])."
      ],
      "metadata": {
        "id": "7npDHAi0kDkb"
      }
    },
    {
      "cell_type": "code",
      "source": [
        "a = np.array([1, 2, 3, 4, 5, 6])\n",
        "b = []\n",
        "for i in a:\n",
        "  if i%2 == 0:\n",
        "    b.append(True)\n",
        "  else:\n",
        "    b.append(False)\n",
        "newarr=a[b]\n",
        "print(newarr)"
      ],
      "metadata": {
        "colab": {
          "base_uri": "https://localhost:8080/"
        },
        "id": "wvEmDOXVkFKb",
        "outputId": "0e166109-3eec-4ce3-e850-df7027c4a0ca"
      },
      "execution_count": null,
      "outputs": [
        {
          "output_type": "stream",
          "name": "stdout",
          "text": [
            "[2 4 6]\n"
          ]
        }
      ]
    },
    {
      "cell_type": "markdown",
      "source": [
        "25. Advanced Filtering with np.where(): Use np.where() to replace all values greater than 20 in a =\n",
        "np.array([10, 25, 30, 15, 50]) with 0."
      ],
      "metadata": {
        "id": "fu9j4sjwkTWn"
      }
    },
    {
      "cell_type": "code",
      "source": [
        "a = np.array([10, 25, 30, 15, 50])\n",
        "b = np.where(a>20)\n",
        "a[b] = 0\n",
        "print(a)"
      ],
      "metadata": {
        "colab": {
          "base_uri": "https://localhost:8080/"
        },
        "id": "NaDgsZ0wkUEQ",
        "outputId": "e5d12d9b-dca2-41ba-8510-9de719358dd7"
      },
      "execution_count": null,
      "outputs": [
        {
          "output_type": "stream",
          "name": "stdout",
          "text": [
            "[10  0  0 15  0]\n"
          ]
        }
      ]
    }
  ]
}